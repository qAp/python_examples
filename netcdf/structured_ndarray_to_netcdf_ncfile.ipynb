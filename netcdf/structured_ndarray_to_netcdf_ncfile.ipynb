{
 "cells": [
  {
   "cell_type": "code",
   "execution_count": 1,
   "metadata": {},
   "outputs": [],
   "source": [
    "import xarray as xr\n",
    "import netCDF4 \n",
    "import numpy as np"
   ]
  },
  {
   "cell_type": "code",
   "execution_count": 2,
   "metadata": {},
   "outputs": [],
   "source": [
    "ds = xr.open_dataset('puftrac_2018103100ChinShan_Cs.nc')"
   ]
  },
  {
   "cell_type": "code",
   "execution_count": 3,
   "metadata": {},
   "outputs": [
    {
     "data": {
      "text/plain": [
       "<xarray.Dataset>\n",
       "Dimensions:  (serial: 2657664)\n",
       "Dimensions without coordinates: serial\n",
       "Data variables:\n",
       "    trajec   (serial) {'names':['ReleaseTime','CurrentTime','Longitude','Latitude','RelativeHeight','SigX','SigY','SigZ','AirConcentrationR','GroundConcentrationR'], 'formats':['<i8','<i8','<f4','<f4','<f4','<f4','<f4','<f4','<f4','<f4'], 'offsets':[0,8,16,20,24,28,32,36,40,44], 'itemsize':48, 'aligned':True} ...\n",
       "Attributes:\n",
       "    Start Time:      1540944000\n",
       "    End Time:        1541635200\n",
       "    Release Period:  300\n",
       "    Dump Period:     300"
      ]
     },
     "execution_count": 3,
     "metadata": {},
     "output_type": "execute_result"
    }
   ],
   "source": [
    "ds"
   ]
  },
  {
   "cell_type": "code",
   "execution_count": 4,
   "metadata": {},
   "outputs": [],
   "source": [
    "data = ds['trajec'].data"
   ]
  },
  {
   "cell_type": "code",
   "execution_count": 5,
   "metadata": {},
   "outputs": [
    {
     "data": {
      "text/plain": [
       "dtype([('ReleaseTime', '<i8'), ('CurrentTime', '<i8'), ('Longitude', '<f4'), ('Latitude', '<f4'), ('RelativeHeight', '<f4'), ('SigX', '<f4'), ('SigY', '<f4'), ('SigZ', '<f4'), ('AirConcentrationR', '<f4'), ('GroundConcentrationR', '<f4')], align=True)"
      ]
     },
     "execution_count": 5,
     "metadata": {},
     "output_type": "execute_result"
    }
   ],
   "source": [
    "data.dtype"
   ]
  },
  {
   "cell_type": "code",
   "execution_count": 6,
   "metadata": {},
   "outputs": [],
   "source": [
    "dataset = netCDF4.Dataset('puftrac_x.nc', mode='w', format='NETCDF4')"
   ]
  },
  {
   "cell_type": "code",
   "execution_count": 12,
   "metadata": {},
   "outputs": [],
   "source": [
    "for n, v in ds.attrs.items(): setattr(dataset, n, v)"
   ]
  },
  {
   "cell_type": "code",
   "execution_count": 14,
   "metadata": {},
   "outputs": [
    {
     "data": {
      "text/plain": [
       "<class 'netCDF4._netCDF4.Dimension'>: name = 'serial', size = 2657664"
      ]
     },
     "execution_count": 14,
     "metadata": {},
     "output_type": "execute_result"
    }
   ],
   "source": [
    "dataset.createDimension('serial', len(data))"
   ]
  },
  {
   "cell_type": "code",
   "execution_count": 15,
   "metadata": {},
   "outputs": [],
   "source": [
    "stype = dataset.createCompoundType(data.dtype, 'stype')"
   ]
  },
  {
   "cell_type": "code",
   "execution_count": 16,
   "metadata": {},
   "outputs": [],
   "source": [
    "trajec = dataset.createVariable('trajec', stype, ('serial',))\n",
    "trajec[:] = data"
   ]
  },
  {
   "cell_type": "code",
   "execution_count": 21,
   "metadata": {},
   "outputs": [],
   "source": [
    "dataset.close()"
   ]
  },
  {
   "cell_type": "code",
   "execution_count": null,
   "metadata": {},
   "outputs": [],
   "source": []
  },
  {
   "cell_type": "code",
   "execution_count": 22,
   "metadata": {},
   "outputs": [],
   "source": [
    "ds_loaded = xr.open_dataset('puftrac_x.nc')"
   ]
  },
  {
   "cell_type": "code",
   "execution_count": 23,
   "metadata": {},
   "outputs": [
    {
     "data": {
      "text/plain": [
       "True"
      ]
     },
     "execution_count": 23,
     "metadata": {},
     "output_type": "execute_result"
    }
   ],
   "source": [
    "all(ds_loaded['trajec'].data == ds['trajec'].data)"
   ]
  },
  {
   "cell_type": "code",
   "execution_count": 24,
   "metadata": {},
   "outputs": [
    {
     "data": {
      "text/plain": [
       "<xarray.Dataset>\n",
       "Dimensions:  (serial: 2657664)\n",
       "Dimensions without coordinates: serial\n",
       "Data variables:\n",
       "    trajec   (serial) {'names':['ReleaseTime','CurrentTime','Longitude','Latitude','RelativeHeight','SigX','SigY','SigZ','AirConcentrationR','GroundConcentrationR'], 'formats':['<i8','<i8','<f4','<f4','<f4','<f4','<f4','<f4','<f4','<f4'], 'offsets':[0,8,16,20,24,28,32,36,40,44], 'itemsize':48, 'aligned':True} (1540944000, 1540944000,  121.58726501,  25.28619194,  18.35871315,  20.88158417,  19.70635605,  18.56035042,   1.00000000e+10,  0.) ... (1541634900, 1541635200,  121.58705902,  25.28547096,  1.60839462,  112.5715332,  117.04603577,  51.2441864,   1.00000000e+10,  0.)\n",
       "Attributes:\n",
       "    Start Time:      1540944000\n",
       "    End Time:        1541635200\n",
       "    Release Period:  300\n",
       "    Dump Period:     300"
      ]
     },
     "execution_count": 24,
     "metadata": {},
     "output_type": "execute_result"
    }
   ],
   "source": [
    "ds_loaded"
   ]
  },
  {
   "cell_type": "code",
   "execution_count": 25,
   "metadata": {},
   "outputs": [
    {
     "data": {
      "text/plain": [
       "<xarray.Dataset>\n",
       "Dimensions:  (serial: 2657664)\n",
       "Dimensions without coordinates: serial\n",
       "Data variables:\n",
       "    trajec   (serial) {'names':['ReleaseTime','CurrentTime','Longitude','Latitude','RelativeHeight','SigX','SigY','SigZ','AirConcentrationR','GroundConcentrationR'], 'formats':['<i8','<i8','<f4','<f4','<f4','<f4','<f4','<f4','<f4','<f4'], 'offsets':[0,8,16,20,24,28,32,36,40,44], 'itemsize':48, 'aligned':True} (1540944000, 1540944000,  121.58726501,  25.28619194,  18.35871315,  20.88158417,  19.70635605,  18.56035042,   1.00000000e+10,  0.) ... (1541634900, 1541635200,  121.58705902,  25.28547096,  1.60839462,  112.5715332,  117.04603577,  51.2441864,   1.00000000e+10,  0.)\n",
       "Attributes:\n",
       "    Start Time:      1540944000\n",
       "    End Time:        1541635200\n",
       "    Release Period:  300\n",
       "    Dump Period:     300"
      ]
     },
     "execution_count": 25,
     "metadata": {},
     "output_type": "execute_result"
    }
   ],
   "source": [
    "ds"
   ]
  },
  {
   "cell_type": "code",
   "execution_count": null,
   "metadata": {},
   "outputs": [],
   "source": []
  }
 ],
 "metadata": {
  "kernelspec": {
   "display_name": "Python 3",
   "language": "python",
   "name": "python3"
  },
  "language_info": {
   "codemirror_mode": {
    "name": "ipython",
    "version": 3
   },
   "file_extension": ".py",
   "mimetype": "text/x-python",
   "name": "python",
   "nbconvert_exporter": "python",
   "pygments_lexer": "ipython3",
   "version": "3.6.1"
  }
 },
 "nbformat": 4,
 "nbformat_minor": 2
}
