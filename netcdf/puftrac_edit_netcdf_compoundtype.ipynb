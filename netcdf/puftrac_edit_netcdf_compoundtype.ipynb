{
 "cells": [
  {
   "cell_type": "code",
   "execution_count": 1,
   "metadata": {
    "collapsed": true
   },
   "outputs": [],
   "source": [
    "import pandas as pd\n",
    "import numpy as np\n",
    "import netCDF4"
   ]
  },
  {
   "cell_type": "code",
   "execution_count": 51,
   "metadata": {
    "collapsed": true
   },
   "outputs": [],
   "source": [
    "# Load the csv file and correct the Release Time\n",
    "fukurls = pd.read_csv('fukurls.csv')\n",
    "fukurls.rename({'RTIME': 'ReleaseTime'}, axis=1, inplace=True)\n",
    "\n",
    "def fix_rtime(t):\n",
    "    s = str(t)\n",
    "    return s[:3] + '0' + s[3:]\n",
    "\n",
    "fukurls['ReleaseTime'] = fukurls['ReleaseTime'].apply(fix_rtime).astype('int64')\n",
    "fukurls.set_index('ReleaseTime', inplace=True)"
   ]
  },
  {
   "cell_type": "code",
   "execution_count": 46,
   "metadata": {},
   "outputs": [],
   "source": [
    "# Load the netcdf file into a DataFrame\n",
    "ds = netCDF4.Dataset('puftrac_2018103100ChinShan_Cs.nc')\n",
    "puftrac = pd.DataFrame(ds['trajec'][:])"
   ]
  },
  {
   "cell_type": "code",
   "execution_count": 52,
   "metadata": {},
   "outputs": [
    {
     "data": {
      "text/html": [
       "<div>\n",
       "<style scoped>\n",
       "    .dataframe tbody tr th:only-of-type {\n",
       "        vertical-align: middle;\n",
       "    }\n",
       "\n",
       "    .dataframe tbody tr th {\n",
       "        vertical-align: top;\n",
       "    }\n",
       "\n",
       "    .dataframe thead th {\n",
       "        text-align: right;\n",
       "    }\n",
       "</style>\n",
       "<table border=\"1\" class=\"dataframe\">\n",
       "  <thead>\n",
       "    <tr style=\"text-align: right;\">\n",
       "      <th></th>\n",
       "      <th>Cs(/h)</th>\n",
       "    </tr>\n",
       "    <tr>\n",
       "      <th>ReleaseTime</th>\n",
       "      <th></th>\n",
       "    </tr>\n",
       "  </thead>\n",
       "  <tbody>\n",
       "    <tr>\n",
       "      <th>1540944000</th>\n",
       "      <td>3.700080e+12</td>\n",
       "    </tr>\n",
       "    <tr>\n",
       "      <th>1540944300</th>\n",
       "      <td>3.700080e+12</td>\n",
       "    </tr>\n",
       "    <tr>\n",
       "      <th>1540944600</th>\n",
       "      <td>3.700080e+12</td>\n",
       "    </tr>\n",
       "    <tr>\n",
       "      <th>1540944900</th>\n",
       "      <td>3.700080e+12</td>\n",
       "    </tr>\n",
       "    <tr>\n",
       "      <th>1540945200</th>\n",
       "      <td>3.700080e+12</td>\n",
       "    </tr>\n",
       "  </tbody>\n",
       "</table>\n",
       "</div>"
      ],
      "text/plain": [
       "                   Cs(/h)\n",
       "ReleaseTime              \n",
       "1540944000   3.700080e+12\n",
       "1540944300   3.700080e+12\n",
       "1540944600   3.700080e+12\n",
       "1540944900   3.700080e+12\n",
       "1540945200   3.700080e+12"
      ]
     },
     "execution_count": 52,
     "metadata": {},
     "output_type": "execute_result"
    }
   ],
   "source": [
    "fukurls.head()"
   ]
  },
  {
   "cell_type": "code",
   "execution_count": 48,
   "metadata": {},
   "outputs": [
    {
     "data": {
      "text/html": [
       "<div>\n",
       "<style scoped>\n",
       "    .dataframe tbody tr th:only-of-type {\n",
       "        vertical-align: middle;\n",
       "    }\n",
       "\n",
       "    .dataframe tbody tr th {\n",
       "        vertical-align: top;\n",
       "    }\n",
       "\n",
       "    .dataframe thead th {\n",
       "        text-align: right;\n",
       "    }\n",
       "</style>\n",
       "<table border=\"1\" class=\"dataframe\">\n",
       "  <thead>\n",
       "    <tr style=\"text-align: right;\">\n",
       "      <th></th>\n",
       "      <th>ReleaseTime</th>\n",
       "      <th>CurrentTime</th>\n",
       "      <th>Longitude</th>\n",
       "      <th>Latitude</th>\n",
       "      <th>RelativeHeight</th>\n",
       "      <th>SigX</th>\n",
       "      <th>SigY</th>\n",
       "      <th>SigZ</th>\n",
       "      <th>AirConcentrationR</th>\n",
       "      <th>GroundConcentrationR</th>\n",
       "    </tr>\n",
       "  </thead>\n",
       "  <tbody>\n",
       "    <tr>\n",
       "      <th>0</th>\n",
       "      <td>1540944000</td>\n",
       "      <td>1540944000</td>\n",
       "      <td>121.587265</td>\n",
       "      <td>25.286192</td>\n",
       "      <td>18.358713</td>\n",
       "      <td>20.881584</td>\n",
       "      <td>19.706356</td>\n",
       "      <td>18.560350</td>\n",
       "      <td>1.000000e+10</td>\n",
       "      <td>0.0</td>\n",
       "    </tr>\n",
       "    <tr>\n",
       "      <th>1</th>\n",
       "      <td>1540944000</td>\n",
       "      <td>1540944300</td>\n",
       "      <td>121.586586</td>\n",
       "      <td>25.285027</td>\n",
       "      <td>25.641741</td>\n",
       "      <td>235.425659</td>\n",
       "      <td>205.557571</td>\n",
       "      <td>97.498146</td>\n",
       "      <td>1.000000e+10</td>\n",
       "      <td>0.0</td>\n",
       "    </tr>\n",
       "    <tr>\n",
       "      <th>2</th>\n",
       "      <td>1540944300</td>\n",
       "      <td>1540944300</td>\n",
       "      <td>121.587303</td>\n",
       "      <td>25.286184</td>\n",
       "      <td>14.849241</td>\n",
       "      <td>26.482800</td>\n",
       "      <td>25.320646</td>\n",
       "      <td>24.167999</td>\n",
       "      <td>1.000000e+10</td>\n",
       "      <td>0.0</td>\n",
       "    </tr>\n",
       "    <tr>\n",
       "      <th>3</th>\n",
       "      <td>1540944000</td>\n",
       "      <td>1540944600</td>\n",
       "      <td>121.582283</td>\n",
       "      <td>25.280849</td>\n",
       "      <td>89.982407</td>\n",
       "      <td>439.083801</td>\n",
       "      <td>376.263611</td>\n",
       "      <td>130.351196</td>\n",
       "      <td>1.000000e+10</td>\n",
       "      <td>0.0</td>\n",
       "    </tr>\n",
       "    <tr>\n",
       "      <th>4</th>\n",
       "      <td>1540944300</td>\n",
       "      <td>1540944600</td>\n",
       "      <td>121.587730</td>\n",
       "      <td>25.284620</td>\n",
       "      <td>14.365055</td>\n",
       "      <td>240.414215</td>\n",
       "      <td>210.729919</td>\n",
       "      <td>100.204796</td>\n",
       "      <td>1.000000e+10</td>\n",
       "      <td>0.0</td>\n",
       "    </tr>\n",
       "  </tbody>\n",
       "</table>\n",
       "</div>"
      ],
      "text/plain": [
       "   ReleaseTime  CurrentTime   Longitude   Latitude  RelativeHeight  \\\n",
       "0   1540944000   1540944000  121.587265  25.286192       18.358713   \n",
       "1   1540944000   1540944300  121.586586  25.285027       25.641741   \n",
       "2   1540944300   1540944300  121.587303  25.286184       14.849241   \n",
       "3   1540944000   1540944600  121.582283  25.280849       89.982407   \n",
       "4   1540944300   1540944600  121.587730  25.284620       14.365055   \n",
       "\n",
       "         SigX        SigY        SigZ  AirConcentrationR  GroundConcentrationR  \n",
       "0   20.881584   19.706356   18.560350       1.000000e+10                   0.0  \n",
       "1  235.425659  205.557571   97.498146       1.000000e+10                   0.0  \n",
       "2   26.482800   25.320646   24.167999       1.000000e+10                   0.0  \n",
       "3  439.083801  376.263611  130.351196       1.000000e+10                   0.0  \n",
       "4  240.414215  210.729919  100.204796       1.000000e+10                   0.0  "
      ]
     },
     "execution_count": 48,
     "metadata": {},
     "output_type": "execute_result"
    }
   ],
   "source": [
    "puftrac.head()"
   ]
  },
  {
   "cell_type": "code",
   "execution_count": 53,
   "metadata": {},
   "outputs": [
    {
     "name": "stdout",
     "output_type": "stream",
     "text": [
      "CPU times: user 48.2 s, sys: 0 ns, total: 48.2 s\n",
      "Wall time: 48.1 s\n"
     ]
    }
   ],
   "source": [
    "# Wherever ReleaseTime matches, scale AirConcentrationR and GroundConcentrationR with Cs(/h).\n",
    "\n",
    "%%time\n",
    "\n",
    "chvars = ['AirConcentrationR', 'GroundConcentrationR']\n",
    "\n",
    "for rtime in fukurls.index:\n",
    "    cond = puftrac['ReleaseTime'] == rtime\n",
    "    puftrac.loc[cond, chvars] *= fukurls.loc[rtime, 'Cs(/h)']     "
   ]
  },
  {
   "cell_type": "code",
   "execution_count": 68,
   "metadata": {},
   "outputs": [],
   "source": [
    "# Convert DataFrame to structured numpy array\n",
    "data_trajecout = np.array([tuple(r) for r in puftrac.values], dtype=ds['trajec'].dtype)"
   ]
  },
  {
   "cell_type": "code",
   "execution_count": 70,
   "metadata": {},
   "outputs": [],
   "source": [
    "# Begin writing out changed `trajec` to disk\n",
    "dsout = netCDF4.Dataset('puftrac_netcdf.nc', 'w')"
   ]
  },
  {
   "cell_type": "code",
   "execution_count": 71,
   "metadata": {},
   "outputs": [],
   "source": [
    "stype = dsout.createCompoundType(ds['trajec'].dtype, 'stype')\n",
    "dsout.createDimension('serial', len(ds['trajec']))\n",
    "trajecout = dsout.createVariable('trajec', stype, ('serial',))\n",
    "trajecout[:] = data_trajecout\n",
    "for name in ds.ncattrs():\n",
    "    setattr(dsout, name, getattr(ds, name, None))"
   ]
  },
  {
   "cell_type": "code",
   "execution_count": 72,
   "metadata": {},
   "outputs": [
    {
     "data": {
      "text/plain": [
       "array([ (1540944000, 1540944000,  121.58726501,  25.28619194,  18.35871315,   20.88158417,   19.70635605,  18.56035042,   3.70007999e+22,  0.),\n",
       "       (1540944000, 1540944300,  121.586586  ,  25.28502655,  25.6417408 ,  235.42565918,  205.55757141,  97.49814606,   3.70007999e+22,  0.),\n",
       "       (1540944300, 1540944300,  121.58730316,  25.28618431,  14.84924126,   26.48279953,   25.32064629,  24.16799927,   3.70007999e+22,  0.),\n",
       "       ...,\n",
       "       (1541634300, 1541635200,  121.58605957,  25.28359222,   0.8872261 ,  298.42910767,  311.3326416 ,  80.88805389,   1.00000000e+10,  0.),\n",
       "       (1541634600, 1541635200,  121.58480835,  25.28500366,  56.78849411,  205.64807129,  217.37597656,  68.38516998,   1.00000000e+10,  0.),\n",
       "       (1541634900, 1541635200,  121.58705902,  25.28547096,   1.60839462,  112.5715332 ,  117.04603577,  51.2441864 ,   1.00000000e+10,  0.)],\n",
       "      dtype={'names':['ReleaseTime','CurrentTime','Longitude','Latitude','RelativeHeight','SigX','SigY','SigZ','AirConcentrationR','GroundConcentrationR'], 'formats':['<i8','<i8','<f4','<f4','<f4','<f4','<f4','<f4','<f4','<f4'], 'offsets':[0,8,16,20,24,28,32,36,40,44], 'itemsize':48, 'aligned':True})"
      ]
     },
     "execution_count": 72,
     "metadata": {},
     "output_type": "execute_result"
    }
   ],
   "source": [
    "dsout['trajec'][:]"
   ]
  },
  {
   "cell_type": "code",
   "execution_count": 62,
   "metadata": {},
   "outputs": [
    {
     "data": {
      "text/plain": [
       "array([ (1540944000, 1540944000,  121.58726501,  25.28619194,  18.35871315,   20.88158417,   19.70635605,  18.56035042,   1.00000000e+10,  0.),\n",
       "       (1540944000, 1540944300,  121.586586  ,  25.28502655,  25.6417408 ,  235.42565918,  205.55757141,  97.49814606,   1.00000000e+10,  0.),\n",
       "       (1540944300, 1540944300,  121.58730316,  25.28618431,  14.84924126,   26.48279953,   25.32064629,  24.16799927,   1.00000000e+10,  0.),\n",
       "       ...,\n",
       "       (1541634300, 1541635200,  121.58605957,  25.28359222,   0.8872261 ,  298.42910767,  311.3326416 ,  80.88805389,   1.00000000e+10,  0.),\n",
       "       (1541634600, 1541635200,  121.58480835,  25.28500366,  56.78849411,  205.64807129,  217.37597656,  68.38516998,   1.00000000e+10,  0.),\n",
       "       (1541634900, 1541635200,  121.58705902,  25.28547096,   1.60839462,  112.5715332 ,  117.04603577,  51.2441864 ,   1.00000000e+10,  0.)],\n",
       "      dtype={'names':['ReleaseTime','CurrentTime','Longitude','Latitude','RelativeHeight','SigX','SigY','SigZ','AirConcentrationR','GroundConcentrationR'], 'formats':['<i8','<i8','<f4','<f4','<f4','<f4','<f4','<f4','<f4','<f4'], 'offsets':[0,8,16,20,24,28,32,36,40,44], 'itemsize':48, 'aligned':True})"
      ]
     },
     "execution_count": 62,
     "metadata": {},
     "output_type": "execute_result"
    }
   ],
   "source": [
    "ds['trajec'][:]"
   ]
  },
  {
   "cell_type": "code",
   "execution_count": 74,
   "metadata": {
    "collapsed": true
   },
   "outputs": [],
   "source": [
    "dsout.close()"
   ]
  },
  {
   "cell_type": "code",
   "execution_count": 75,
   "metadata": {
    "collapsed": true
   },
   "outputs": [],
   "source": [
    "ds.close()"
   ]
  },
  {
   "cell_type": "code",
   "execution_count": 15,
   "metadata": {
    "collapsed": true
   },
   "outputs": [],
   "source": []
  },
  {
   "cell_type": "code",
   "execution_count": null,
   "metadata": {
    "collapsed": true
   },
   "outputs": [],
   "source": []
  }
 ],
 "metadata": {
  "kernelspec": {
   "display_name": "Python 3",
   "language": "python",
   "name": "python3"
  },
  "language_info": {
   "codemirror_mode": {
    "name": "ipython",
    "version": 3
   },
   "file_extension": ".py",
   "mimetype": "text/x-python",
   "name": "python",
   "nbconvert_exporter": "python",
   "pygments_lexer": "ipython3",
   "version": "3.6.1"
  }
 },
 "nbformat": 4,
 "nbformat_minor": 2
}
