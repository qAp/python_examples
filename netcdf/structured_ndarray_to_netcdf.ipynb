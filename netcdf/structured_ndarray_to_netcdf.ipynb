{
 "cells": [
  {
   "cell_type": "code",
   "execution_count": 4,
   "metadata": {},
   "outputs": [],
   "source": [
    "import xarray as xr\n",
    "import numpy as np\n",
    "import netCDF4"
   ]
  },
  {
   "cell_type": "markdown",
   "metadata": {},
   "source": [
    "http://www.ceda.ac.uk/static/media/uploads/ncas-reading-2015/11_create_netcdf_python.pdf"
   ]
  },
  {
   "cell_type": "code",
   "execution_count": 20,
   "metadata": {},
   "outputs": [],
   "source": [
    "data = np.array([(4, -6, 5), (10, 0.001, 1e22)], \n",
    "                dtype=[('x', 'int64'), \n",
    "                       ('y', 'float32'), \n",
    "                       ('z', 'float32')])"
   ]
  },
  {
   "cell_type": "code",
   "execution_count": 25,
   "metadata": {},
   "outputs": [],
   "source": [
    "da = xr.DataArray(data)\n",
    "ds = xr.Dataset()\n",
    "ds['mist'] = da"
   ]
  },
  {
   "cell_type": "code",
   "execution_count": 26,
   "metadata": {},
   "outputs": [
    {
     "data": {
      "text/plain": [
       "<xarray.Dataset>\n",
       "Dimensions:  (dim_0: 2)\n",
       "Dimensions without coordinates: dim_0\n",
       "Data variables:\n",
       "    mist     (dim_0) [('x', '<i8'), ('y', '<f4'), ('z', '<f4')] (4, -6.,  5.) (10,  0.001,   9.99999978e+21)"
      ]
     },
     "execution_count": 26,
     "metadata": {},
     "output_type": "execute_result"
    }
   ],
   "source": [
    "ds"
   ]
  },
  {
   "cell_type": "code",
   "execution_count": 28,
   "metadata": {},
   "outputs": [],
   "source": [
    "#ds.to_netcdf('tmp.nc')"
   ]
  },
  {
   "cell_type": "code",
   "execution_count": 34,
   "metadata": {},
   "outputs": [],
   "source": [
    "with netCDF4.Dataset('tmp_via_netCDF4.nc', \n",
    "                     mode='w', format='NETCDF4') as f:\n",
    "    f.createDimension('dim_0', 2)\n",
    "    stype = f.createCompoundType(data.dtype, 'stype')\n",
    "    mist = f.createVariable('mist', stype, ('dim_0', ))\n",
    "    mist[:] = data\n",
    "    "
   ]
  },
  {
   "cell_type": "code",
   "execution_count": 35,
   "metadata": {},
   "outputs": [
    {
     "name": "stdout",
     "output_type": "stream",
     "text": [
      "\u001b[34mApplications\u001b[m\u001b[m             \u001b[34mPublic\u001b[m\u001b[m                   \u001b[34mpython_examples\u001b[m\u001b[m\r\n",
      "\u001b[34mDesktop\u001b[m\u001b[m                  \u001b[34mReads\u001b[m\u001b[m                    tmp.nc\r\n",
      "\u001b[34mDocuments\u001b[m\u001b[m                Untitled.ipynb           tmp_via_netCDF4.nc\r\n",
      "\u001b[34mDownloads\u001b[m\u001b[m                \u001b[34manaconda3\u001b[m\u001b[m                wechataccount_201810\r\n",
      "\u001b[34mLibrary\u001b[m\u001b[m                  \u001b[34mdata\u001b[m\u001b[m                     \u001b[34mwforword\u001b[m\u001b[m\r\n",
      "\u001b[34mMovies\u001b[m\u001b[m                   \u001b[34mgit_repos\u001b[m\u001b[m                \u001b[34myoga\u001b[m\u001b[m\r\n",
      "\u001b[34mMusic\u001b[m\u001b[m                    googleaccount_201810\r\n",
      "\u001b[34mPictures\u001b[m\u001b[m                 names_for_spelling.ipynb\r\n"
     ]
    }
   ],
   "source": [
    "!ls"
   ]
  },
  {
   "cell_type": "code",
   "execution_count": 37,
   "metadata": {},
   "outputs": [
    {
     "data": {
      "text/plain": [
       "array([( 4,  -6.00000000e+00,   5.00000000e+00),\n",
       "       (10,   1.00000005e-03,   9.99999978e+21)],\n",
       "      dtype={'names':['x','y','z'], 'formats':['<i8','<f4','<f4'], 'offsets':[0,8,12], 'itemsize':16, 'aligned':True})"
      ]
     },
     "execution_count": 37,
     "metadata": {},
     "output_type": "execute_result"
    }
   ],
   "source": [
    "xr.open_dataset('tmp_via_netCDF4.nc')['mist'].data"
   ]
  },
  {
   "cell_type": "code",
   "execution_count": null,
   "metadata": {},
   "outputs": [],
   "source": []
  }
 ],
 "metadata": {
  "kernelspec": {
   "display_name": "Python 3",
   "language": "python",
   "name": "python3"
  },
  "language_info": {
   "codemirror_mode": {
    "name": "ipython",
    "version": 3
   },
   "file_extension": ".py",
   "mimetype": "text/x-python",
   "name": "python",
   "nbconvert_exporter": "python",
   "pygments_lexer": "ipython3",
   "version": "3.6.1"
  }
 },
 "nbformat": 4,
 "nbformat_minor": 2
}
