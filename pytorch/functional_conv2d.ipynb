{
 "cells": [
  {
   "cell_type": "markdown",
   "metadata": {},
   "source": [
    "# `pytorch.nn.functional.conv2d`"
   ]
  },
  {
   "cell_type": "code",
   "execution_count": 6,
   "metadata": {},
   "outputs": [],
   "source": [
    "import torch\n",
    "import torch.nn.functional as F"
   ]
  },
  {
   "cell_type": "code",
   "execution_count": 22,
   "metadata": {},
   "outputs": [],
   "source": [
    "x = torch.tensor([[9., 3., 1.],\n",
    "                  [1., 2., 3.],\n",
    "                  [5., 1., 4.]])\n",
    "x = x.view(1, 1, 3, 3)"
   ]
  },
  {
   "cell_type": "code",
   "execution_count": 28,
   "metadata": {},
   "outputs": [],
   "source": [
    "w = torch.tensor([[2., 1.],\n",
    "                  [1., 4.]])\n",
    "w = w.view(1, 1, 2, 2)"
   ]
  },
  {
   "cell_type": "markdown",
   "metadata": {},
   "source": [
    "#### Default settings"
   ]
  },
  {
   "cell_type": "code",
   "execution_count": 36,
   "metadata": {},
   "outputs": [
    {
     "name": "stdout",
     "output_type": "stream",
     "text": [
      "30 21\n",
      "13 24\n"
     ]
    }
   ],
   "source": [
    "print(2*9 + 1*3 + 1*1 + 4*2, 2*3 + 1*1 + 1*2 + 4*3)\n",
    "print(2*1 + 1*2 + 1*5 + 4*1, 2*2 + 1*3 + 1*1 + 4*4)"
   ]
  },
  {
   "cell_type": "code",
   "execution_count": 31,
   "metadata": {},
   "outputs": [
    {
     "data": {
      "text/plain": [
       "tensor([[[[30., 21.],\n",
       "          [13., 24.]]]])"
      ]
     },
     "execution_count": 31,
     "metadata": {},
     "output_type": "execute_result"
    }
   ],
   "source": [
    "F.conv2d(x, w)"
   ]
  },
  {
   "cell_type": "markdown",
   "metadata": {},
   "source": [
    "#### `padding = 1`"
   ]
  },
  {
   "cell_type": "code",
   "execution_count": 50,
   "metadata": {},
   "outputs": [
    {
     "name": "stdout",
     "output_type": "stream",
     "text": [
      "36 21  7  1\n",
      "13 30 21  5\n",
      "21 13 24 10\n",
      " 5 11  6  8\n"
     ]
    }
   ],
   "source": [
    "y00, y01 = 2*0 + 1*0 + 1*0 + 4*9, 2*0 + 1*0 + 1*9 + 4*3\n",
    "y02, y03 = 2*0 + 1*0 + 1*3 + 4*1, 2*0 + 1*0 + 1*1 + 4*0\n",
    "y10, y11 = 2*0 + 1*9 + 1*0 + 4*1, 2*9 + 1*3 + 1*1 + 4*2\n",
    "y12, y13 = 2*3 + 1*1 + 1*2 + 4*3, 2*1 + 1*0 + 1*3 + 4*0\n",
    "y20, y21 = 2*0 + 1*1 + 1*0 + 4*5, 2*1 + 1*2 + 1*5 + 4*1\n",
    "y22, y23 = 2*2 + 1*3 + 1*1 + 4*4, 2*3 + 1*0 + 1*4 + 4*0\n",
    "y30, y31 = 2*0 + 1*5 + 1*0 + 4*0, 2*5 + 1*1 + 1*0 + 4*0\n",
    "y32, y33 = 2*1 + 1*4 + 1*0 + 4*0, 2*4 + 1*0 + 1*0 + 4*0\n",
    "print(f'{y00:2d} {y01:2d} {y02:2d} {y03:2d}')\n",
    "print(f'{y10:2d} {y11:2d} {y12:2d} {y13:2d}')\n",
    "print(f'{y20:2d} {y21:2d} {y22:2d} {y23:2d}')\n",
    "print(f'{y30:2d} {y31:2d} {y32:2d} {y33:2d}')"
   ]
  },
  {
   "cell_type": "code",
   "execution_count": 37,
   "metadata": {},
   "outputs": [
    {
     "data": {
      "text/plain": [
       "tensor([[[[36., 21.,  7.,  1.],\n",
       "          [13., 30., 21.,  5.],\n",
       "          [21., 13., 24., 10.],\n",
       "          [ 5., 11.,  6.,  8.]]]])"
      ]
     },
     "execution_count": 37,
     "metadata": {},
     "output_type": "execute_result"
    }
   ],
   "source": [
    "F.conv2d(x, w, padding=1)"
   ]
  },
  {
   "cell_type": "code",
   "execution_count": null,
   "metadata": {},
   "outputs": [],
   "source": []
  }
 ],
 "metadata": {
  "kernelspec": {
   "display_name": "Python 3",
   "language": "python",
   "name": "python3"
  },
  "language_info": {
   "codemirror_mode": {
    "name": "ipython",
    "version": 3
   },
   "file_extension": ".py",
   "mimetype": "text/x-python",
   "name": "python",
   "nbconvert_exporter": "python",
   "pygments_lexer": "ipython3",
   "version": "3.7.7"
  },
  "toc": {
   "base_numbering": 1,
   "nav_menu": {},
   "number_sections": true,
   "sideBar": true,
   "skip_h1_title": false,
   "title_cell": "Table of Contents",
   "title_sidebar": "Contents",
   "toc_cell": false,
   "toc_position": {},
   "toc_section_display": true,
   "toc_window_display": false
  }
 },
 "nbformat": 4,
 "nbformat_minor": 4
}
