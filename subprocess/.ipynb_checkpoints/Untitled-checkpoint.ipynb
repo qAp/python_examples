{
 "cells": [
  {
   "cell_type": "code",
   "execution_count": 1,
   "metadata": {
    "collapsed": true
   },
   "outputs": [],
   "source": [
    "import subprocess"
   ]
  },
  {
   "cell_type": "code",
   "execution_count": 7,
   "metadata": {},
   "outputs": [],
   "source": [
    "filenames = ['happy_once.txt', 'happy_twice.txt']\n",
    "\n",
    "with open('happy_once.txt', mode='w', encoding='utf-8') as f:\n",
    "    f.writelines(['pollo pollo\\n',\n",
    "                  'happy pollo'])\n",
    "    \n",
    "with open('happy_twice.txt', mode='w', encoding='utf-8') as f:\n",
    "    f.writelines(['pollo pollo pollo pollo happy\\n',\n",
    "                  'pollo pollo\\n',\n",
    "                  'pollo  pollo happy pollo pollo'])"
   ]
  },
  {
   "cell_type": "code",
   "execution_count": 8,
   "metadata": {
    "collapsed": true
   },
   "outputs": [],
   "source": [
    "def run_cat(filename):\n",
    "    return subprocess.Popen(['cat', filename],\n",
    "                            stdout=subprocess.PIPE)\n",
    "\n",
    "\n",
    "def run_grep(input_stdin):\n",
    "    return subprocess.Popen(['grep', 'happy'],\n",
    "                            stdin=input_stdin,\n",
    "                            stdout=subprocess.PIPE)"
   ]
  },
  {
   "cell_type": "code",
   "execution_count": 10,
   "metadata": {},
   "outputs": [
    {
     "name": "stdout",
     "output_type": "stream",
     "text": [
      "b'happy pollo\\n'\n",
      "b''\n"
     ]
    }
   ],
   "source": [
    "cat_procs = []\n",
    "grep_procs = []\n",
    "for filename in filenames:\n",
    "    cat_proc = run_cat(filename)\n",
    "    cat_procs.append(cat_proc)\n",
    "    grep_proc = run_grep(cat_proc.stdout)\n",
    "    grep_procs.append(grep_proc)\n",
    "    \n",
    "\n",
    "for proc in cat_procs:\n",
    "    proc.communicate()\n",
    "for proc in grep_procs:\n",
    "    out, err = proc.communicate()\n",
    "    print(out)"
   ]
  },
  {
   "cell_type": "code",
   "execution_count": null,
   "metadata": {
    "collapsed": true
   },
   "outputs": [],
   "source": []
  }
 ],
 "metadata": {
  "kernelspec": {
   "display_name": "Python 3",
   "language": "python",
   "name": "python3"
  },
  "language_info": {
   "codemirror_mode": {
    "name": "ipython",
    "version": 3
   },
   "file_extension": ".py",
   "mimetype": "text/x-python",
   "name": "python",
   "nbconvert_exporter": "python",
   "pygments_lexer": "ipython3",
   "version": "3.6.2"
  }
 },
 "nbformat": 4,
 "nbformat_minor": 2
}
