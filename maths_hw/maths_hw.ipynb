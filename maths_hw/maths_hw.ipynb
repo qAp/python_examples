{
 "cells": [
  {
   "cell_type": "markdown",
   "metadata": {},
   "source": [
    "## Question E"
   ]
  },
  {
   "cell_type": "markdown",
   "metadata": {},
   "source": [
    "### a"
   ]
  },
  {
   "cell_type": "markdown",
   "metadata": {},
   "source": [
    "$$\n",
    "\\text{sales revenue} = \\text{cost per package} \\times \\text{sales}\n",
    "$$\n",
    "\n",
    "Let\n",
    "$$\n",
    "R = \\text{sales revenue}\\\\\n",
    "p = \\text{cost per package}\\\\\n",
    "n = \\text{sales}\\\\\n",
    "x = \\text{increase in cost per package from 5 dollars}\n",
    "$$\n",
    "\n",
    "From the question, \n",
    "$$\n",
    "p = x + 5\\\\\n",
    "n = 150 - 10x\\\\\n",
    "R = pn \\\\\n",
    "= (x + 5)(150 - 10x)\\\\\n",
    "= -10x^2 + 100x + 750\n",
    "$$"
   ]
  },
  {
   "cell_type": "markdown",
   "metadata": {},
   "source": [
    "### b"
   ]
  },
  {
   "cell_type": "markdown",
   "metadata": {},
   "source": [
    "Assuming it's a typo in the question and that \"sales\" is \"sales revenue\", then to maximise the revenue, solve:\n",
    "\n",
    "$$\n",
    "\\begin{align}\n",
    "& \\frac{dR}{dx} = 0 \\\\\n",
    "& \\implies -20x + 100 = 0 \\\\\n",
    "& \\implies x = 5\n",
    "\\end{align}\n",
    "$$\n",
    "This is the price increase that will maximise the sales revenue."
   ]
  },
  {
   "cell_type": "markdown",
   "metadata": {},
   "source": [
    "### c"
   ]
  },
  {
   "cell_type": "markdown",
   "metadata": {},
   "source": [
    "The cost per package at this price increase is:\n",
    "$$\n",
    "p = x + 5 = 5 + 5 = 10\n",
    "$$"
   ]
  },
  {
   "cell_type": "markdown",
   "metadata": {},
   "source": [
    "### d"
   ]
  },
  {
   "cell_type": "markdown",
   "metadata": {},
   "source": [
    "The sales revenue (the maximum possible in this case) is:\n",
    "$$\n",
    "R = p n  = 10 \\cdot (150 - 10 \\cdot 5) = 1000\n",
    "$$"
   ]
  },
  {
   "cell_type": "markdown",
   "metadata": {},
   "source": [
    "## Question 7\n"
   ]
  },
  {
   "cell_type": "markdown",
   "metadata": {},
   "source": [
    "### Plotting the graph"
   ]
  },
  {
   "cell_type": "markdown",
   "metadata": {},
   "source": [
    "**Method 1**  \n",
    "If you know how to draw $y = e^{x}$, then remember that:\n",
    "1. When $x$ becomes $x - 2$, the whole graph shifts horizontally to the right by 2 steps.  So, $y = e^{x - 2}$ is $y = e^{x}$ shifted to the right by 2 steps.\n",
    "2. When $y$ becomes $y + 1$, the whole graph shifts vertically up by 1 step.  So, $y = e^{x - 2} + 1$ is $y = e^{x - 2}$ shifted up by 1 step.\n",
    "\n",
    "**Method 2**  \n",
    "If you know \n",
    "$$\n",
    "e^0 = 1 \\\\ \n",
    "e^1 \\approx 2.7 < 3 \\quad ,\n",
    "$$\n",
    "\n",
    "then ask yourself what $x$ in $e^{x - 2}$ would give you the above two situations?\n",
    "\n",
    "$$\n",
    "y = e^{x - 2} + 1 = e^0 + 1 = 1 + 1 \\implies x = 2 \\\\\n",
    "y = e^{x - 2} + 1 = e^1 + 1 = 2.7 + 1 \\implies x = 3\n",
    "$$\n",
    "\n",
    "So, from these, you know that the graph should go through $(2, 2)$ and $(3, 3.7)$, these 2 points.\n",
    "\n",
    "Then, look at what happens at $x = \\infty$ and $x = -\\infty$:\n",
    "$$\n",
    "x = \\infty \\implies y = x^{\\infty - 2} + 1 = \\infty + 1 = \\infty\\\\\n",
    "x = -\\infty \\implies y = x^{-\\infty - 2} + 1 = 0 + 1 = 1 \\quad,\n",
    "$$\n",
    "which means there is only 1 asymptote: $y = 1$.  Make sure your graph doesn't intersect or cross this line.\n",
    "\n"
   ]
  },
  {
   "cell_type": "markdown",
   "metadata": {},
   "source": [
    "### About the intersect that has a rational coordinate"
   ]
  },
  {
   "cell_type": "markdown",
   "metadata": {},
   "source": [
    "To find the intersect of the lines $y = mx + 5$ and $y = e^{x - 2} + 1$, do:\n",
    "\n",
    "$$\n",
    "y = mx + 5 = e^{x - 2} + 1 \\quad .\n",
    "$$\n",
    "\n",
    "We are looking for a $(x, y)$ that:\n",
    "1. satisfies the above equation.\n",
    "2. has a rational $x$.\n",
    "3. has a rational $y$.\n",
    "\n",
    "To do this, it helps to re-arrange the equation to get an expression for $x$:\n",
    "\n",
    "$$\n",
    "x = \\frac{e^{x - 2} - 4}{m} \\quad .\n",
    "$$\n",
    "\n",
    "Now, we want the right-hand side to be a rational number becuase we require $x$ to be a rational number.  But $e$ is an irrational number, so in general, the right-hand side is an irrational number.\n",
    "\n",
    "But we know that there's an exception.  $e^{0} = 1$ is a rational number, so if we can have that on the right-hand side, then we would get a rational $x$.  What $x$ would give us this?   $2$, because $e^{x - 2}$ would then be $e^{2 - 2} = 1$.  \n",
    "\n",
    "So, plugging $x = 2$ into the above equation:\n",
    "\n",
    "$$\n",
    "2 = \\frac{e^{2 - 2} - 4}{m} \\\\\n",
    "\\implies m = \\frac{1 - 4}{2} = -\\frac{3}{2}  \\quad.\n",
    "$$\n",
    "So now we know $y = mx + 5 = -\\frac{3}{2}x + 5$.\n",
    "\n",
    "What is the y coordinate at the intercept?\n",
    "\n",
    "$$\n",
    "y = - \\frac{3}{2} \\cdot 2 + 5 = e^{2 - 2} + 1 = 2\n",
    "$$\n",
    "\n",
    "So, $(x, y) = (2, 2)$ is the point of intersection with rational coordinates.\n"
   ]
  },
  {
   "cell_type": "markdown",
   "metadata": {},
   "source": [
    "## Question A"
   ]
  },
  {
   "cell_type": "markdown",
   "metadata": {},
   "source": [
    "### 1"
   ]
  },
  {
   "cell_type": "markdown",
   "metadata": {},
   "source": [
    "$x$ varies inversely with $y$ means that we can write\n",
    "\n",
    "$$\n",
    "x = \\frac{a}{y} \\quad,\n",
    "$$\n",
    "where $a$ is some number.\n",
    "\n",
    "The question says that when $x=3$, $y=4$, so just plug these values into the above equation:\n",
    "\n",
    "$$\n",
    "3 = \\frac{a}{4} \\\\\n",
    "\\implies a = 12 \\quad .\n",
    "$$\n",
    "\n",
    "So, now we know: \n",
    "\n",
    "$$\n",
    "x = \\frac{12}{y} \\quad,\n",
    "$$\n",
    "\n",
    "or \n",
    "\n",
    "$$\n",
    "y = \\frac{12}{x} \\quad.\n",
    "$$\n",
    "\n",
    "\n"
   ]
  },
  {
   "cell_type": "markdown",
   "metadata": {},
   "source": [
    "### 2"
   ]
  },
  {
   "cell_type": "markdown",
   "metadata": {},
   "source": [
    "\n",
    "$$\n",
    "w = a \\frac{mn}{t} \\quad.\n",
    "$$"
   ]
  },
  {
   "cell_type": "markdown",
   "metadata": {},
   "source": [
    "## Question B"
   ]
  },
  {
   "cell_type": "markdown",
   "metadata": {},
   "source": [
    "### 3"
   ]
  },
  {
   "cell_type": "markdown",
   "metadata": {},
   "source": [
    "$$\n",
    "\\frac{16 x^5 y^4}{2y} \\frac{x y^2}{2 x^3 y^7} \\\\\n",
    "= \\frac{16 x^{5 + 1} y^{4 + 2}}{4 x^3 y^{7 + 1}} \\\\\n",
    "= \\frac{16 x^{6} y^{6}}{4 x^3 y^{8}} \\\\\n",
    "= \\frac{16}{4} x^{6 - 3} y^{6 - 8} \\\\\n",
    "= 4 x^3 y^{-2} \\\\\n",
    "= \\frac{8 x^3}{y^2}\n",
    "$$"
   ]
  },
  {
   "cell_type": "markdown",
   "metadata": {},
   "source": [
    "### 4"
   ]
  },
  {
   "cell_type": "markdown",
   "metadata": {},
   "source": [
    "$$\n",
    "\\frac{x^2 - 8x}{4x} = \\frac{x(x - 8)}{4x} = \\frac{x - 8}{4} \\quad .\n",
    "$$\n",
    "\n",
    "$$\n",
    "\\frac{2x^2 + 15x - 8}{2x - 1} = \\frac{(2x - 1)(x + 8)}{2x - 1} = x + 8 \\quad .\n",
    "$$\n",
    "\n",
    "Plug in the above:\n",
    "$$\n",
    "\\frac{x^2 - 8x}{4x} \\div \\frac{2x^2 + 15x - 8}{2x - 1} \\\\\n",
    "= \\frac{x - 8}{4} \\div (x + 8) \\\\\n",
    "= \\frac{x - 8}{4} \\cdot \\frac{1}{x + 8} \\\\\n",
    "= \\frac{x - 8}{4(x + 8)}\n",
    "$$"
   ]
  },
  {
   "cell_type": "markdown",
   "metadata": {},
   "source": [
    "## Question C"
   ]
  },
  {
   "cell_type": "markdown",
   "metadata": {},
   "source": [
    "### 5"
   ]
  },
  {
   "cell_type": "markdown",
   "metadata": {},
   "source": [
    "Knowing what $y = 1 / x$ looks like, it should be clear that $y = \\frac{4}{x - 2} + 5$ also has asymptotes associated with $x = \\infty$ and $y = \\infty$.\n",
    "\n",
    "Therefore, just plug in these values into the equation and see what asymptotes come out:\n",
    "\n",
    "$$\n",
    "y = \\infty \\\\\n",
    "\\implies \\infty = \\frac{4}{x - 2} + 5 \\\\\n",
    "\\implies \\frac{4}{x - 2} = \\infty - 5 = \\infty \\\\\n",
    "\\implies x - 2 = \\frac{4}{\\infty} = 0 \\\\\n",
    "\\implies x = 2 \\quad \\text{is an asymptote}.\n",
    "$$\n",
    "\n",
    "Similarly,\n",
    "\n",
    "$$\n",
    "x = \\infty \\\\\n",
    "\\implies y = \\frac{4}{\\infty - 2} + 5 = \\frac{4}{\\infty} + 5 = 0 + 5 = 5 \\\\\n",
    "\\implies y = 5 \\quad \\text{is an asymptote.}\n",
    "$$"
   ]
  },
  {
   "cell_type": "markdown",
   "metadata": {},
   "source": [
    "### 6"
   ]
  },
  {
   "cell_type": "markdown",
   "metadata": {},
   "source": [
    "$$\n",
    "x = \\infty \\\\\n",
    "\\implies y = \\frac{5}{\\infty^2 + 3} \\\\\n",
    "\\implies y = \\frac{5}{\\infty + 3} = \\frac{5}{\\infty} = 0 \\\\\n",
    "\\implies y = 0 \\quad \\text{is an asymptote.}\n",
    "$$\n",
    "\n",
    "$$\n",
    "y = \\infty \\\\\n",
    "\\implies \\infty = \\frac{5}{x^2 + 3} \\\\\n",
    "\\implies x^2 + 3 = \\frac{5}{\\infty} = 0\\\\\n",
    "\\implies x^2 = -3 \\quad \\text{no real asymptotes.} \\\\\n",
    "\\implies x = \\pm i \\sqrt{3} \\quad \\text{imaginary asymptotes.}\n",
    "$$"
   ]
  },
  {
   "cell_type": "markdown",
   "metadata": {},
   "source": [
    "## Question D"
   ]
  },
  {
   "cell_type": "markdown",
   "metadata": {},
   "source": [
    "### 7"
   ]
  },
  {
   "cell_type": "markdown",
   "metadata": {},
   "source": [
    "This is not an equation."
   ]
  },
  {
   "cell_type": "markdown",
   "metadata": {},
   "source": [
    "### 8"
   ]
  },
  {
   "cell_type": "markdown",
   "metadata": {},
   "source": [
    "$$\n",
    "\\frac{x + 4}{3} - \\frac{2}{x} = x - 1 \\\\\n",
    "\\implies \\frac{x}{x} \\cdot \\frac{x + 4}{3} - \\frac{3}{3} \\cdot \\frac{2}{x} = x - 1 \\\\\n",
    "\\implies \\frac{x (x + 4) - 6}{3x} = x - 1 \\\\\n",
    "\\implies x (x + 4) - 6 = 3x (x - 1) \\\\\n",
    "\\implies -2x^2 + 7x - 6 = 0 \\\\\n",
    "\\implies (-2x + 3)(x - 2) = 0 \\\\\n",
    "\\implies -2x + 3 = 0 \\quad , \\quad x - 2 = 0\\\\\n",
    "\\implies x = -\\frac{3}{2} \\quad, \\quad x = 2 \\quad .\n",
    "$$"
   ]
  },
  {
   "cell_type": "code",
   "execution_count": null,
   "metadata": {},
   "outputs": [],
   "source": []
  }
 ],
 "metadata": {
  "kernelspec": {
   "display_name": "Python 3",
   "language": "python",
   "name": "python3"
  },
  "language_info": {
   "codemirror_mode": {
    "name": "ipython",
    "version": 3
   },
   "file_extension": ".py",
   "mimetype": "text/x-python",
   "name": "python",
   "nbconvert_exporter": "python",
   "pygments_lexer": "ipython3",
   "version": "3.7.7"
  },
  "toc": {
   "base_numbering": 1,
   "nav_menu": {
    "height": "294px",
    "width": "318px"
   },
   "number_sections": true,
   "sideBar": true,
   "skip_h1_title": false,
   "title_cell": "Table of Contents",
   "title_sidebar": "Contents",
   "toc_cell": false,
   "toc_position": {},
   "toc_section_display": true,
   "toc_window_display": false
  }
 },
 "nbformat": 4,
 "nbformat_minor": 4
}
